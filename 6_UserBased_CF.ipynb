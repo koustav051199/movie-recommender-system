{
 "cells": [
  {
   "cell_type": "code",
   "execution_count": 1,
   "metadata": {},
   "outputs": [],
   "source": [
    "#import the relevant libraries\n",
    "\n",
    "import pickle\n",
    "import numpy as np\n",
    "import pandas as pd\n",
    "import matplotlib.pyplot as plt\n",
    "from sklearn.utils import shuffle\n",
    "from datetime import datetime\n",
    "from sortedcontainers import SortedList"
   ]
  },
  {
   "cell_type": "code",
   "execution_count": 2,
   "metadata": {},
   "outputs": [],
   "source": [
    "# load in the data\n",
    "import os\n",
    "\n",
    "with open('user2movie', 'rb') as f:\n",
    "  user2movie = pickle.load(f)\n",
    "\n",
    "with open('movie2user', 'rb') as f:\n",
    "  movie2user = pickle.load(f)\n",
    "\n",
    "with open('usermovie2rating', 'rb') as f:\n",
    "  usermovie2rating = pickle.load(f)\n",
    "\n",
    "df = pd.read_csv('ratings.csv')"
   ]
  },
  {
   "cell_type": "code",
   "execution_count": 3,
   "metadata": {},
   "outputs": [
    {
     "name": "stdout",
     "output_type": "stream",
     "text": [
      "N: 610 M: 9724\n"
     ]
    }
   ],
   "source": [
    "N = np.max(list(user2movie.keys())) + 1\n",
    "# the user-movie to rating dictionary may contain movies the movie to user doesn't have data on\n",
    "m1 = np.max(list(movie2user.keys()))\n",
    "m2 = np.max([m for (u, m), r in usermovie2rating.items()])\n",
    "M = max(m1, m2) + 1\n",
    "print(\"N:\", N, \"M:\", M)"
   ]
  },
  {
   "cell_type": "code",
   "execution_count": 4,
   "metadata": {},
   "outputs": [
    {
     "name": "stderr",
     "output_type": "stream",
     "text": [
      "C:\\Users\\hp\\anaconda3\\lib\\site-packages\\ipykernel_launcher.py:40: RuntimeWarning: invalid value encountered in double_scalars\n"
     ]
    }
   ],
   "source": [
    "K = 25 # number of neighbors we'd like to consider\n",
    "limit = 5 # number of common movies users must have in common in order to consider\n",
    "neighbors = [] # store neighbors in this list\n",
    "averages = [] # each user's average rating for later use\n",
    "deviations = [] # each user's deviation for later use\n",
    "\n",
    "for i in list(user2movie.keys()):\n",
    "  # find the 25 closest users to user i\n",
    "  movies_i = user2movie[i]\n",
    "  movies_i_set = set(movies_i)\n",
    "\n",
    "  # calculate avg and deviation\n",
    "  ratings_i = { movie:usermovie2rating[(i, movie)] for movie in movies_i }\n",
    "  avg_i = np.mean(list(ratings_i.values()))\n",
    "  dev_i = { movie:(rating - avg_i) for movie, rating in ratings_i.items() }\n",
    "  dev_i_values = np.array(list(dev_i.values()))\n",
    "  sigma_i = np.sqrt(dev_i_values.dot(dev_i_values))\n",
    "\n",
    "  # save these for later use\n",
    "  averages.append(avg_i)\n",
    "  deviations.append(dev_i)\n",
    "\n",
    "  sl = SortedList()\n",
    "  for j in list(user2movie.keys()):\n",
    "    # don't include user i\n",
    "    if j != i:\n",
    "      movies_j = user2movie[j]\n",
    "      movies_j_set = set(movies_j)\n",
    "      common_movies = (movies_i_set & movies_j_set) # intersection\n",
    "      if len(common_movies) > limit:\n",
    "        # calculate avg and deviation\n",
    "        ratings_j = { movie:usermovie2rating[(j, movie)] for movie in movies_j }\n",
    "        avg_j = np.mean(list(ratings_j.values()))\n",
    "        dev_j = { movie:(rating - avg_j) for movie, rating in ratings_j.items() }\n",
    "        dev_j_values = np.array(list(dev_j.values()))\n",
    "        sigma_j = np.sqrt(dev_j_values.dot(dev_j_values))\n",
    "\n",
    "        # calculate correlation coefficient\n",
    "        numerator = sum(dev_i[m]*dev_j[m] for m in common_movies)\n",
    "        w_ij = numerator / (sigma_i * sigma_j)\n",
    "\n",
    "        # insert into sorted list and truncate\n",
    "        # negate weight, because list is sorted ascending\n",
    "        # maximum value (1) is \"closest\"\n",
    "        sl.add((-w_ij, j))\n",
    "        if len(sl) > K:\n",
    "          del sl[-1]\n",
    "\n",
    "  # store the neighbors\n",
    "  neighbors.append(sl)"
   ]
  },
  {
   "cell_type": "code",
   "execution_count": 5,
   "metadata": {},
   "outputs": [],
   "source": [
    "def predict(i, m):\n",
    "  # calculate the weighted sum of deviations\n",
    "  numerator = 0\n",
    "  denominator = 0\n",
    "  for neg_w, j in neighbors[i]:\n",
    "    # remember, the weight is stored as its negative\n",
    "    # so the negative of the negative weight is the positive weight\n",
    "    try:\n",
    "      numerator += -neg_w * deviations[j][m]\n",
    "      denominator += abs(neg_w)\n",
    "    except KeyError:\n",
    "      # neighbor may not have rated the same movie\n",
    "      # don't want to do dictionary lookup twice\n",
    "      # so just throw exception\n",
    "      pass\n",
    "\n",
    "  if denominator == 0:\n",
    "    prediction = averages[i]\n",
    "  else:\n",
    "    prediction = numerator / denominator + averages[i]\n",
    "  prediction = min(5, prediction)\n",
    "  prediction = max(0.5, prediction) # min rating is 0.5\n",
    "  return prediction"
   ]
  },
  {
   "cell_type": "code",
   "execution_count": 6,
   "metadata": {},
   "outputs": [],
   "source": [
    "predictions = []\n",
    "targets = []\n",
    "for (i, m), target in usermovie2rating.items():\n",
    "  # calculate the prediction for this movie\n",
    "  prediction = predict(i, m)\n",
    "\n",
    "  # save the prediction and target\n",
    "  predictions.append(prediction)\n",
    "  targets.append(target)"
   ]
  },
  {
   "cell_type": "code",
   "execution_count": 7,
   "metadata": {},
   "outputs": [
    {
     "name": "stdout",
     "output_type": "stream",
     "text": [
      "Mean Squared Error :  0.685331595899452\n"
     ]
    }
   ],
   "source": [
    "# calculate accuracy\n",
    "def mse(p, t):\n",
    "  p = np.array(p)\n",
    "  t = np.array(t)\n",
    "  return np.mean((p - t)**2)\n",
    "\n",
    "print('Mean Squared Error : ', mse(predictions, targets))"
   ]
  },
  {
   "cell_type": "code",
   "execution_count": null,
   "metadata": {},
   "outputs": [],
   "source": []
  }
 ],
 "metadata": {
  "kernelspec": {
   "display_name": "Python 3",
   "language": "python",
   "name": "python3"
  },
  "language_info": {
   "codemirror_mode": {
    "name": "ipython",
    "version": 3
   },
   "file_extension": ".py",
   "mimetype": "text/x-python",
   "name": "python",
   "nbconvert_exporter": "python",
   "pygments_lexer": "ipython3",
   "version": "3.7.6"
  }
 },
 "nbformat": 4,
 "nbformat_minor": 4
}
